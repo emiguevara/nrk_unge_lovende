{
 "cells": [
  {
   "cell_type": "markdown",
   "metadata": {},
   "source": [
    "# NRK Intervjuoppgave Data Scientist: Emiliano Guevara\n",
    "\n",
    "emiguevara@gmail.com\n",
    "\n",
    "## Explanation of this notebook\n",
    "\n",
    "This page shows the code and results for the interview task as an Ipython Notebook.\n",
    "\n",
    "Ipython notebook is a rather popular framework that allows to sketch research notes and code at the same time. The notebook can be visualized with the embedded results and graphics as a common webpage, or it can be downloaded and executed interactively in a local machine.\n",
    "\n",
    "In order to run correctly, the following packages must be installed (written and tested on Linux Fedora 23, the package names may change on a different operating system):\n",
    "\n",
    "* gcc gcc-c++ (devel packages)\n",
    "* python 2.7\n",
    "\n",
    "#### Python libraries\n",
    "\n",
    "* numpy scipy python-matplotlib python-ipython python-pandas (standard python scientific environment)\n",
    "\n",
    "#### Running this notebook\n",
    "\n",
    "Once the needed packages are correctly installed, this Ipython Notebook can be used interactively by checking out the source file and running:\n",
    "\n",
    "* ipython notebook\n",
    "\n",
    "A browser window will open at http://localhost:8888/ and the notebook will be available as \"Unge_lovende.ipynb\".\n",
    " \n",
    "More information on how to run notebooks is available at http://ipython.org/notebook.html\n"
   ]
  },
  {
   "cell_type": "markdown",
   "metadata": {},
   "source": [
    "## Analysis\n",
    "\n",
    "In what follows I sketch a simple exploratory analysis of the provided dataset. Due to time limitations, I could only dedicate a few hours to this task and I therefore did not try any advanced analysis or modelling of the data. Similarly, I did not manipulate the format of the dataset beyond some simple data-type parsing.\n",
    "\n",
    "I limited myself to using only one statistical/modelling library, Python Pandas http://pandas.pydata.org/.\n",
    "\n",
    "Besides the basic exploratory figures, I also point out some clear problems arising from the very nature of the data and the methods used to collect them.\n"
   ]
  },
  {
   "cell_type": "markdown",
   "metadata": {},
   "source": [
    "### 1. Import statements and preliminary commands"
   ]
  },
  {
   "cell_type": "code",
   "execution_count": 2,
   "metadata": {
    "collapsed": true
   },
   "outputs": [],
   "source": [
    "# reading and parsing csv files  \n",
    "import csv\n",
    "# using urls\n",
    "import urllib2\n",
    "# analysis\n",
    "import matplotlib\n",
    "import pandas as pd\n",
    "# date parsing\n",
    "from datetime import datetime\n",
    "# Enable inline plotting and configure plotting\n",
    "%matplotlib inline\n",
    "matplotlib.pylab.rcParams['figure.figsize'] = (10, 6)\n",
    "matplotlib.style.use('ggplot')\n"
   ]
  },
  {
   "cell_type": "markdown",
   "metadata": {},
   "source": [
    "### 2. Getting the dataset and viewing entries"
   ]
  },
  {
   "cell_type": "code",
   "execution_count": 3,
   "metadata": {
    "collapsed": true
   },
   "outputs": [],
   "source": [
    "url = 'https://storage.googleapis.com/nrk-data/unge-lovende.csv'\n",
    "# or use local file\n",
    "# url = '/path/to/dataset'"
   ]
  },
  {
   "cell_type": "code",
   "execution_count": 4,
   "metadata": {
    "collapsed": false
   },
   "outputs": [
    {
     "data": {
      "text/html": [
       "<div>\n",
       "<table border=\"1\" class=\"dataframe\">\n",
       "  <thead>\n",
       "    <tr style=\"text-align: right;\">\n",
       "      <th></th>\n",
       "      <th>userId</th>\n",
       "      <th>programId</th>\n",
       "      <th>visitStartTime</th>\n",
       "      <th>timeWithinVisit</th>\n",
       "    </tr>\n",
       "  </thead>\n",
       "  <tbody>\n",
       "    <tr>\n",
       "      <th>0</th>\n",
       "      <td>2172883450372358834</td>\n",
       "      <td>KMTE20000514</td>\n",
       "      <td>1447617021</td>\n",
       "      <td>1614261</td>\n",
       "    </tr>\n",
       "    <tr>\n",
       "      <th>1</th>\n",
       "      <td>2214426530139075244</td>\n",
       "      <td>KMTE20000314</td>\n",
       "      <td>1447578419</td>\n",
       "      <td>1782834</td>\n",
       "    </tr>\n",
       "    <tr>\n",
       "      <th>2</th>\n",
       "      <td>3261020776373483236</td>\n",
       "      <td>KMTE20000114</td>\n",
       "      <td>1447180923</td>\n",
       "      <td>206935</td>\n",
       "    </tr>\n",
       "    <tr>\n",
       "      <th>3</th>\n",
       "      <td>3300130967635711526</td>\n",
       "      <td>KMTE20000114</td>\n",
       "      <td>1447139006</td>\n",
       "      <td>1630400</td>\n",
       "    </tr>\n",
       "    <tr>\n",
       "      <th>4</th>\n",
       "      <td>3303148955234989541</td>\n",
       "      <td>KMTE20000614</td>\n",
       "      <td>1447186150</td>\n",
       "      <td>4274932</td>\n",
       "    </tr>\n",
       "  </tbody>\n",
       "</table>\n",
       "</div>"
      ],
      "text/plain": [
       "                userId     programId  visitStartTime  timeWithinVisit\n",
       "0  2172883450372358834  KMTE20000514      1447617021          1614261\n",
       "1  2214426530139075244  KMTE20000314      1447578419          1782834\n",
       "2  3261020776373483236  KMTE20000114      1447180923           206935\n",
       "3  3300130967635711526  KMTE20000114      1447139006          1630400\n",
       "4  3303148955234989541  KMTE20000614      1447186150          4274932"
      ]
     },
     "execution_count": 4,
     "metadata": {},
     "output_type": "execute_result"
    }
   ],
   "source": [
    "# read data into dataframe, including column headers\n",
    "df = pd.read_csv(url, header=0)\n",
    "# print out first entries\n",
    "df.head()"
   ]
  },
  {
   "cell_type": "markdown",
   "metadata": {},
   "source": [
    "### 3. Normalization and regularization, data types"
   ]
  },
  {
   "cell_type": "code",
   "execution_count": 5,
   "metadata": {
    "collapsed": false
   },
   "outputs": [
    {
     "name": "stdout",
     "output_type": "stream",
     "text": [
      "<class 'pandas.core.frame.DataFrame'>\n"
     ]
    }
   ],
   "source": [
    "# show that data are importad as a pandas dataFrame\n",
    "print type(df)"
   ]
  },
  {
   "cell_type": "code",
   "execution_count": 6,
   "metadata": {
    "collapsed": false
   },
   "outputs": [
    {
     "data": {
      "text/plain": [
       "userId              int64\n",
       "programId          object\n",
       "visitStartTime      int64\n",
       "timeWithinVisit     int64\n",
       "dtype: object"
      ]
     },
     "execution_count": 6,
     "metadata": {},
     "output_type": "execute_result"
    }
   ],
   "source": [
    "# check data types in frame\n",
    "df.dtypes"
   ]
  },
  {
   "cell_type": "code",
   "execution_count": 7,
   "metadata": {
    "collapsed": true
   },
   "outputs": [],
   "source": [
    "# userId and programId are categorical variables\n",
    "df['userId'] = df['userId'].astype('category')\n",
    "df['programId'] = df['programId'].astype('category')\n",
    "\n",
    "# parse timestamps\n",
    "df['visitStartTime'] = pd.to_datetime(df['visitStartTime'], unit='s')\n",
    "\n",
    "# normalize timeWithinVisits from milliseconds to seconds\n",
    "normalize = lambda x: x / 1000\n",
    "df['timeWithinVisit'] = df['timeWithinVisit'].apply(normalize)"
   ]
  },
  {
   "cell_type": "code",
   "execution_count": 8,
   "metadata": {
    "collapsed": false
   },
   "outputs": [
    {
     "data": {
      "text/html": [
       "<div>\n",
       "<table border=\"1\" class=\"dataframe\">\n",
       "  <thead>\n",
       "    <tr style=\"text-align: right;\">\n",
       "      <th></th>\n",
       "      <th>userId</th>\n",
       "      <th>programId</th>\n",
       "      <th>visitStartTime</th>\n",
       "      <th>timeWithinVisit</th>\n",
       "    </tr>\n",
       "  </thead>\n",
       "  <tbody>\n",
       "    <tr>\n",
       "      <th>0</th>\n",
       "      <td>2172883450372358834</td>\n",
       "      <td>KMTE20000514</td>\n",
       "      <td>2015-11-15 19:50:21</td>\n",
       "      <td>1614</td>\n",
       "    </tr>\n",
       "    <tr>\n",
       "      <th>1</th>\n",
       "      <td>2214426530139075244</td>\n",
       "      <td>KMTE20000314</td>\n",
       "      <td>2015-11-15 09:06:59</td>\n",
       "      <td>1782</td>\n",
       "    </tr>\n",
       "    <tr>\n",
       "      <th>2</th>\n",
       "      <td>3261020776373483236</td>\n",
       "      <td>KMTE20000114</td>\n",
       "      <td>2015-11-10 18:42:03</td>\n",
       "      <td>206</td>\n",
       "    </tr>\n",
       "    <tr>\n",
       "      <th>3</th>\n",
       "      <td>3300130967635711526</td>\n",
       "      <td>KMTE20000114</td>\n",
       "      <td>2015-11-10 07:03:26</td>\n",
       "      <td>1630</td>\n",
       "    </tr>\n",
       "    <tr>\n",
       "      <th>4</th>\n",
       "      <td>3303148955234989541</td>\n",
       "      <td>KMTE20000614</td>\n",
       "      <td>2015-11-10 20:09:10</td>\n",
       "      <td>4274</td>\n",
       "    </tr>\n",
       "  </tbody>\n",
       "</table>\n",
       "</div>"
      ],
      "text/plain": [
       "                userId     programId      visitStartTime  timeWithinVisit\n",
       "0  2172883450372358834  KMTE20000514 2015-11-15 19:50:21             1614\n",
       "1  2214426530139075244  KMTE20000314 2015-11-15 09:06:59             1782\n",
       "2  3261020776373483236  KMTE20000114 2015-11-10 18:42:03              206\n",
       "3  3300130967635711526  KMTE20000114 2015-11-10 07:03:26             1630\n",
       "4  3303148955234989541  KMTE20000614 2015-11-10 20:09:10             4274"
      ]
     },
     "execution_count": 8,
     "metadata": {},
     "output_type": "execute_result"
    }
   ],
   "source": [
    "# visualize our first entries\n",
    "df.head()"
   ]
  },
  {
   "cell_type": "code",
   "execution_count": 9,
   "metadata": {
    "collapsed": false
   },
   "outputs": [
    {
     "data": {
      "text/plain": [
       "userId                   category\n",
       "programId                category\n",
       "visitStartTime     datetime64[ns]\n",
       "timeWithinVisit             int64\n",
       "dtype: object"
      ]
     },
     "execution_count": 9,
     "metadata": {},
     "output_type": "execute_result"
    }
   ],
   "source": [
    "# final data types in frame\n",
    "df.dtypes"
   ]
  },
  {
   "cell_type": "markdown",
   "metadata": {},
   "source": [
    "### 4. Summary statistics"
   ]
  },
  {
   "cell_type": "code",
   "execution_count": 10,
   "metadata": {
    "collapsed": false
   },
   "outputs": [
    {
     "name": "stdout",
     "output_type": "stream",
     "text": [
      "<class 'pandas.core.frame.DataFrame'>\n",
      "Int64Index: 589774 entries, 0 to 589773\n",
      "Data columns (total 4 columns):\n",
      "userId             589774 non-null category\n",
      "programId          589774 non-null category\n",
      "visitStartTime     589774 non-null datetime64[ns]\n",
      "timeWithinVisit    589774 non-null int64\n",
      "dtypes: category(2), datetime64[ns](1), int64(1)\n",
      "memory usage: 17.4 MB\n"
     ]
    },
    {
     "data": {
      "text/html": [
       "<div>\n",
       "<table border=\"1\" class=\"dataframe\">\n",
       "  <thead>\n",
       "    <tr style=\"text-align: right;\">\n",
       "      <th></th>\n",
       "      <th>userId</th>\n",
       "      <th>programId</th>\n",
       "      <th>visitStartTime</th>\n",
       "      <th>timeWithinVisit</th>\n",
       "    </tr>\n",
       "  </thead>\n",
       "  <tbody>\n",
       "    <tr>\n",
       "      <th>count</th>\n",
       "      <td>5.897740e+05</td>\n",
       "      <td>589774</td>\n",
       "      <td>589774</td>\n",
       "      <td>589774.000000</td>\n",
       "    </tr>\n",
       "    <tr>\n",
       "      <th>unique</th>\n",
       "      <td>1.483750e+05</td>\n",
       "      <td>6</td>\n",
       "      <td>264922</td>\n",
       "      <td>NaN</td>\n",
       "    </tr>\n",
       "    <tr>\n",
       "      <th>top</th>\n",
       "      <td>3.252011e+17</td>\n",
       "      <td>KMTE20000114</td>\n",
       "      <td>2015-11-21 23:05:24</td>\n",
       "      <td>NaN</td>\n",
       "    </tr>\n",
       "    <tr>\n",
       "      <th>freq</th>\n",
       "      <td>2.400000e+02</td>\n",
       "      <td>117484</td>\n",
       "      <td>26</td>\n",
       "      <td>NaN</td>\n",
       "    </tr>\n",
       "    <tr>\n",
       "      <th>first</th>\n",
       "      <td>NaN</td>\n",
       "      <td>NaN</td>\n",
       "      <td>2015-11-06 10:43:16</td>\n",
       "      <td>NaN</td>\n",
       "    </tr>\n",
       "    <tr>\n",
       "      <th>last</th>\n",
       "      <td>NaN</td>\n",
       "      <td>NaN</td>\n",
       "      <td>2015-12-20 02:11:21</td>\n",
       "      <td>NaN</td>\n",
       "    </tr>\n",
       "    <tr>\n",
       "      <th>mean</th>\n",
       "      <td>NaN</td>\n",
       "      <td>NaN</td>\n",
       "      <td>NaN</td>\n",
       "      <td>3326.544799</td>\n",
       "    </tr>\n",
       "    <tr>\n",
       "      <th>std</th>\n",
       "      <td>NaN</td>\n",
       "      <td>NaN</td>\n",
       "      <td>NaN</td>\n",
       "      <td>2749.883809</td>\n",
       "    </tr>\n",
       "    <tr>\n",
       "      <th>min</th>\n",
       "      <td>NaN</td>\n",
       "      <td>NaN</td>\n",
       "      <td>NaN</td>\n",
       "      <td>0.000000</td>\n",
       "    </tr>\n",
       "    <tr>\n",
       "      <th>25%</th>\n",
       "      <td>NaN</td>\n",
       "      <td>NaN</td>\n",
       "      <td>NaN</td>\n",
       "      <td>1616.000000</td>\n",
       "    </tr>\n",
       "    <tr>\n",
       "      <th>50%</th>\n",
       "      <td>NaN</td>\n",
       "      <td>NaN</td>\n",
       "      <td>NaN</td>\n",
       "      <td>2387.000000</td>\n",
       "    </tr>\n",
       "    <tr>\n",
       "      <th>75%</th>\n",
       "      <td>NaN</td>\n",
       "      <td>NaN</td>\n",
       "      <td>NaN</td>\n",
       "      <td>4568.000000</td>\n",
       "    </tr>\n",
       "    <tr>\n",
       "      <th>max</th>\n",
       "      <td>NaN</td>\n",
       "      <td>NaN</td>\n",
       "      <td>NaN</td>\n",
       "      <td>32588.000000</td>\n",
       "    </tr>\n",
       "  </tbody>\n",
       "</table>\n",
       "</div>"
      ],
      "text/plain": [
       "              userId     programId       visitStartTime  timeWithinVisit\n",
       "count   5.897740e+05        589774               589774    589774.000000\n",
       "unique  1.483750e+05             6               264922              NaN\n",
       "top     3.252011e+17  KMTE20000114  2015-11-21 23:05:24              NaN\n",
       "freq    2.400000e+02        117484                   26              NaN\n",
       "first            NaN           NaN  2015-11-06 10:43:16              NaN\n",
       "last             NaN           NaN  2015-12-20 02:11:21              NaN\n",
       "mean             NaN           NaN                  NaN      3326.544799\n",
       "std              NaN           NaN                  NaN      2749.883809\n",
       "min              NaN           NaN                  NaN         0.000000\n",
       "25%              NaN           NaN                  NaN      1616.000000\n",
       "50%              NaN           NaN                  NaN      2387.000000\n",
       "75%              NaN           NaN                  NaN      4568.000000\n",
       "max              NaN           NaN                  NaN     32588.000000"
      ]
     },
     "execution_count": 10,
     "metadata": {},
     "output_type": "execute_result"
    }
   ],
   "source": [
    "# basic descriptive statistics, also for categorical columns\n",
    "df.info()\n",
    "df.describe(include='all')"
   ]
  },
  {
   "cell_type": "code",
   "execution_count": 11,
   "metadata": {
    "collapsed": false
   },
   "outputs": [
    {
     "data": {
      "text/plain": [
       "Timedelta('43 days 15:28:05')"
      ]
     },
     "execution_count": 11,
     "metadata": {},
     "output_type": "execute_result"
    }
   ],
   "source": [
    "# difference max - min timestamps as datetime delta:\n",
    "(df['visitStartTime'].max() - df['visitStartTime'].min())"
   ]
  },
  {
   "cell_type": "markdown",
   "metadata": {},
   "source": [
    "#### Comments\n",
    "\n",
    "The summary statistics above shows that the provided dataset consists of **589774** data points (5.897740e+05 in scientific notation in column **userId**) for **148375** unique users in Google Anaytics (1.483750e+05). The top number of entries for a single user in the dataset is **240** (2.400000e+02).\n",
    "\n",
    "The column **programId** has only **6** unique values (six different broadcast episodes); the top episode is **KMTE20000114** (episode 1), viewed a total of **117484** times.\n",
    "\n",
    "The column **visitStartTime** shows that the dataset is spread over a period of six weeks (**43** days) between November and December 2015.\n",
    "\n",
    "Finally, the column **timeWithinVisit**, being the only dimension consisting of numerical variables, can be summarized with the standard measures of dispersion and distribution. The mean length of visits is **3326.5** seconds (about 55 minutes), ranging from a minimum of **0** to a maximum of **32588** seconds (over 543 minutes).\n",
    "\n",
    "#### Observations\n",
    "\n",
    "In order to draw final conclusions, a deeper exploration of the dataset is mandatory. We can, however, already draw some preliminary conclusions:\n",
    "\n",
    "* first of all, the dataset is very noisy and granular (it contains a large number of unique users that have not watched the whole series)\n",
    "\n",
    "* second, the way data are collected for **visitStartTime** is sub-optimal: given how wide-spread the values for this column are (as witnessed by the large standard deviation **std**), and given that the episodes published online last between 29 and 30 minutes, it is difficult to trust the significance of a mean visit of 55 minutes. The expected duration of a visit lies somewhere between the 25% and 50% percentiles, and calls for a different methodology to register viewing times.\n",
    "\n",
    "\n"
   ]
  },
  {
   "cell_type": "markdown",
   "metadata": {},
   "source": [
    "### 5. Exploring unique viewers of Unge Lovende\n",
    "\n",
    "As described above, this dataset has a large number of unique users. Let us see how they are distributed.\n",
    "\n",
    "First, we generate a visit count for each user with the pandas method *.value_counts()*."
   ]
  },
  {
   "cell_type": "code",
   "execution_count": 12,
   "metadata": {
    "collapsed": false
   },
   "outputs": [
    {
     "data": {
      "text/plain": [
       "1      37251\n",
       "2      17468\n",
       "3      11104\n",
       "4      10141\n",
       "5      12571\n",
       "6      50685\n",
       "7       5273\n",
       "8       1411\n",
       "9        687\n",
       "10       462\n",
       "11       362\n",
       "12       529\n",
       "13       129\n",
       "14        78\n",
       "15        54\n",
       "16        39\n",
       "17        21\n",
       "18        29\n",
       "19        16\n",
       "20        10\n",
       "21         7\n",
       "22         5\n",
       "23         4\n",
       "24        10\n",
       "25         3\n",
       "26         5\n",
       "27         2\n",
       "28         1\n",
       "29         1\n",
       "33         3\n",
       "34         1\n",
       "35         2\n",
       "37         1\n",
       "38         1\n",
       "39         1\n",
       "40         3\n",
       "48         2\n",
       "60         1\n",
       "90         1\n",
       "240        1\n",
       "dtype: int64"
      ]
     },
     "execution_count": 12,
     "metadata": {},
     "output_type": "execute_result"
    }
   ],
   "source": [
    "# simple frequency count of visits per user\n",
    "# df['userId'].value_counts()\n",
    "\n",
    "# combined frequency of frequencies per user (frequency bands)\n",
    "df['userId'].value_counts().value_counts(sort=False)"
   ]
  },
  {
   "cell_type": "markdown",
   "metadata": {},
   "source": [
    "From the frequncy band count above we can infer that user visits are a very skewed population. This is shown clearly by plotting a histogram of the distribution below, where we can see two distinct peaks: unique users that visited only **1** video and those who visited **6** videos."
   ]
  },
  {
   "cell_type": "code",
   "execution_count": 13,
   "metadata": {
    "collapsed": false
   },
   "outputs": [
    {
     "data": {
      "text/plain": [
       "<matplotlib.axes._subplots.AxesSubplot at 0x7f48c98fe810>"
      ]
     },
     "execution_count": 13,
     "metadata": {},
     "output_type": "execute_result"
    },
    {
     "data": {
      "image/png": "[encoded data removed]",
      "text/plain": [
       "<matplotlib.figure.Figure at 0x7f48ca3e6510>"
      ]
     },
     "metadata": {},
     "output_type": "display_data"
    }
   ],
   "source": [
    "# histogram of frequency bandst\n",
    "df['userId'].value_counts().value_counts(sort=False).plot(kind='bar')\n",
    "\n",
    "# other plots for column userId, simple frequency counts\n",
    "\n",
    "# df['userId'].value_counts().plot(kind='line')\n",
    "# df['userId'].value_counts().plot(kind='kde')\n",
    "\n",
    "# box plot of simple frequency distribution\n",
    "# df['userId'].value_counts().plot(kind='box', vert=False, showmeans=True, meanline=True, title='Number of visits per userId')\n",
    "\n",
    "# box plot of simple frequency distribution, cutoff at freq max 10 for easier viewing\n",
    "# df['userId'].value_counts()[df['userId'].value_counts() < 11].plot(kind='box', vert=False, showmeans=True, meanline=True, title='Number of visits per userId (cut at max 10)')"
   ]
  },
  {
   "cell_type": "markdown",
   "metadata": {},
   "source": [
    "#### Observations\n",
    "\n",
    "If we remind that the total number of unique visitors in the dataset is **148375**, we can safely draw a few observations.\n",
    "\n",
    "* Of the total of unique users, about **1/3** watched only one episode and never came back, while the remaining **2/3** continued watching Unge Lovende\n",
    "* Only about **1/3** of the total unique users watched the maximum expected number (six episodes) in the series\n",
    "* The population has a very long queue of outliers that apparently visited Unge Lovende more than **6** times (and up to **240** times): these cases are most probably due to connection problems, but they do not seem to be highly significant in the dataset\n",
    "\n",
    "A critical observation is in order: the present dataset is based on Google Analytics cookies and does not exclude cases in which a single physical user may watch two or more episodes on different devices (mobile, iPad, laptop, home and work networks, etc.). As such, and unless the portal personalization and analytics are perfectly synced, **there is no way to ensure the quality of these observations**.\n",
    "\n",
    "As a last remark, it would be extremely interesting to model unique visitors at the time of their first visit to a TV program in order to see if it is possible to predict their future attachment to the series (wether they will watch only one or all episodes)."
   ]
  },
  {
   "cell_type": "markdown",
   "metadata": {},
   "source": [
    "### 6. Exploring unique episodes of Unge Lovende\n",
    "\n",
    "First, we generate a view count for each episode with *.value_counts()*. We then plot the results as a horizontal bar chart."
   ]
  },
  {
   "cell_type": "code",
   "execution_count": 14,
   "metadata": {
    "collapsed": false
   },
   "outputs": [
    {
     "data": {
      "text/plain": [
       "KMTE20000114    117484\n",
       "KMTE20000214    100022\n",
       "KMTE20000314     94600\n",
       "KMTE20000414     93168\n",
       "KMTE20000514     92480\n",
       "KMTE20000614     92020\n",
       "dtype: int64"
      ]
     },
     "execution_count": 14,
     "metadata": {},
     "output_type": "execute_result"
    }
   ],
   "source": [
    "df['programId'].value_counts()\n",
    "\n",
    "# summary statistics not significant in this flat distribution\n",
    "# df['programId'].value_counts().describe()"
   ]
  },
  {
   "cell_type": "code",
   "execution_count": 15,
   "metadata": {
    "collapsed": false
   },
   "outputs": [
    {
     "data": {
      "text/plain": [
       "<matplotlib.axes._subplots.AxesSubplot at 0x7f48c9c35510>"
      ]
     },
     "execution_count": 15,
     "metadata": {},
     "output_type": "execute_result"
    },
    {
     "data": {
      "image/png": "[encoded data removed]",
      "text/plain": [
       "<matplotlib.figure.Figure at 0x7f48ec0c97d0>"
      ]
     },
     "metadata": {},
     "output_type": "display_data"
    }
   ],
   "source": [
    "# horizontal bar chart\n",
    "df['programId'].value_counts().plot(kind='barh')"
   ]
  },
  {
   "cell_type": "markdown",
   "metadata": {},
   "source": [
    "#### Observations\n",
    "\n",
    "The column **programId** in the provided dataset has an extremely flat distribution. The six different episodes of Unge Lovende present in this dataset have very similar frequencies.\n",
    "\n",
    "Unsurprisingly, the first two episodes (**KMTE20000114** and **KMTE20000214**) attracted a larger number of visits, but from episode 3 onwards, the number of visits remains almost constant between **92000** and **94000**.\n",
    "\n",
    "Trying draw a relation between these data and the the observations I made in the previous section, it comes as a surprise that each episode has been watched such high number of times: the unique visitors that watched six episodes was roughly about **50000**, **1/3** of the total, and I would not expect the last episodes to have a total number of views that is almost twice that figure.\n",
    "\n",
    "In order to clarify these issues, a much deeper analysis is necessary. I would like to stress that the methodology used to collect the raw variables is far from satisfactory."
   ]
  },
  {
   "cell_type": "markdown",
   "metadata": {},
   "source": [
    "### 7. Exploring duration of visits to Unge Lovende (*timeWithinVisit* in seconds)\n",
    "\n",
    "As I pointed out above, since this column contains numerical variables, generating a summary statistics for it straightforward.\n",
    "\n",
    "The statistical distribution of this column immediately shows unexpected features: it ranges from a minimum of **0** to a maximum of **32588** seconds (over 543 minutes), and the mean length of visits is **3326.5** seconds (about 55 minutes).\n",
    "\n",
    "Given that the episodes published online last between 29 and 30 minutes (about **1800** seconds), it is very surprising that the mean visit for an episode is almost twice the length of an episode. Either online TV audiences are very keen on interrupting the program while they are watching it, or the methodology to collect these times has some flaws.\n",
    "\n",
    "The distribution of the visit times is nicely visualised with a boxplot (shown below with a cutoff max value of 10000 seconds for better viewing)."
   ]
  },
  {
   "cell_type": "code",
   "execution_count": 16,
   "metadata": {
    "collapsed": false
   },
   "outputs": [
    {
     "data": {
      "text/plain": [
       "count    589774.000000\n",
       "mean       3326.544799\n",
       "std        2749.883809\n",
       "min           0.000000\n",
       "25%        1616.000000\n",
       "50%        2387.000000\n",
       "75%        4568.000000\n",
       "max       32588.000000\n",
       "Name: timeWithinVisit, dtype: float64"
      ]
     },
     "execution_count": 16,
     "metadata": {},
     "output_type": "execute_result"
    }
   ],
   "source": [
    "df['timeWithinVisit'].describe()"
   ]
  },
  {
   "cell_type": "code",
   "execution_count": 17,
   "metadata": {
    "collapsed": false
   },
   "outputs": [
    {
     "data": {
      "text/plain": [
       "<matplotlib.axes._subplots.AxesSubplot at 0x7f48c9ac6850>"
      ]
     },
     "execution_count": 17,
     "metadata": {},
     "output_type": "execute_result"
    },
    {
     "data": {
      "image/png": "[encoded data removed]",
      "text/plain": [
       "<matplotlib.figure.Figure at 0x7f48c9cada10>"
      ]
     },
     "metadata": {},
     "output_type": "display_data"
    }
   ],
   "source": [
    "# boxplot of the whole distribution, cutoff to max 10000 seconds: dashed line is value of mean\n",
    "df[(df['timeWithinVisit']>0) & (df['timeWithinVisit']<10000)]['timeWithinVisit'].plot(kind='box', vert=False, showmeans=True, meanline=True, title='TimeWithinVisit, cutoff max 10000 seconds')\n",
    "\n",
    "# boxplot of the whole distribution, with a long queue of outliers\n",
    "# df['timeWithinVisit'].plot(kind='box', vert=False, showmeans=True, meanline=True, title='TimeWithinVisit')\n",
    "\n",
    "# other plots: density plot\n",
    "# df['timeWithinVisit'].plot(kind='kde')\n",
    "# other plots: histogram\n",
    "# df['timeWithinVisit'].plot(kind='hist')"
   ]
  },
  {
   "cell_type": "markdown",
   "metadata": {
    "collapsed": true
   },
   "source": [
    "### 8. Exploring binge watching of Unge Lovende\n",
    "\n",
    "In order to describe the relation between this dataset and binge watching, we need an operational model of *binge*. For the purpose of this task, I propose to define *binge* as the difference in time between the first and the last **visitStartTime** for each unique user. Furthermore, I propose to imagine that a ideal *binge-watcher* will watch all the available episodes in a vary short time: in other terms, a binge-watcher of Unge Lovende will consume all six episodes in just a few hours, maximum one day.\n",
    "\n",
    "To obtain this model, we need to manipulate the original dataframe; we read the original data once more and extract a vector with unique users."
   ]
  },
  {
   "cell_type": "code",
   "execution_count": 18,
   "metadata": {
    "collapsed": false
   },
   "outputs": [],
   "source": [
    "# read data into dataframe, including column headers\n",
    "df2 = pd.read_csv(url, header=0)\n",
    "# extract all unique userIds\n",
    "unique_user_ids = pd.unique(df2.userId.ravel())"
   ]
  },
  {
   "cell_type": "markdown",
   "metadata": {},
   "source": [
    "Now we need to loop the original dataset for each unique **userId**, extracting all of his/her **visitStartTime** values and keeping track of the first and last visits. Since the original dataset has Unix timestamps, a simple min() and max() integer comparison will extract the correct values.\n",
    "\n",
    "On each iteration, we append the extracted data to an array.\n",
    "\n",
    "This loop could take a few minutes to compute."
   ]
  },
  {
   "cell_type": "code",
   "execution_count": 19,
   "metadata": {
    "collapsed": false
   },
   "outputs": [],
   "source": [
    "# binge container\n",
    "binge = []\n",
    "\n",
    "# loop, not optimal but not too bad either\n",
    "for uniq in unique_user_ids:\n",
    "    selected = df2[df2['userId']==uniq]['visitStartTime']\n",
    "    # save extracted data with dimension variable names\n",
    "    to_save = {\n",
    "        'userId': uniq,\n",
    "        'countVisits': len(selected),\n",
    "        'firstVisit': min(selected),\n",
    "        'lastVisit': max(selected),\n",
    "        'diff': max(selected) - min(selected)\n",
    "    }\n",
    "    # append to container\n",
    "    binge.append(to_save)\n"
   ]
  },
  {
   "cell_type": "markdown",
   "metadata": {},
   "source": [
    "Next we need to create a pandas dataFrame with the extracted data for analysis and visualization."
   ]
  },
  {
   "cell_type": "code",
   "execution_count": 20,
   "metadata": {
    "collapsed": false
   },
   "outputs": [
    {
     "data": {
      "text/html": [
       "<div>\n",
       "<table border=\"1\" class=\"dataframe\">\n",
       "  <thead>\n",
       "    <tr style=\"text-align: right;\">\n",
       "      <th></th>\n",
       "      <th>countVisits</th>\n",
       "      <th>diff</th>\n",
       "      <th>firstVisit</th>\n",
       "      <th>lastVisit</th>\n",
       "      <th>userId</th>\n",
       "    </tr>\n",
       "  </thead>\n",
       "  <tbody>\n",
       "    <tr>\n",
       "      <th>0</th>\n",
       "      <td>2</td>\n",
       "      <td>0</td>\n",
       "      <td>1447617021</td>\n",
       "      <td>1447617021</td>\n",
       "      <td>2172883450372358834</td>\n",
       "    </tr>\n",
       "    <tr>\n",
       "      <th>1</th>\n",
       "      <td>4</td>\n",
       "      <td>0</td>\n",
       "      <td>1447578419</td>\n",
       "      <td>1447578419</td>\n",
       "      <td>2214426530139075244</td>\n",
       "    </tr>\n",
       "    <tr>\n",
       "      <th>2</th>\n",
       "      <td>7</td>\n",
       "      <td>10954</td>\n",
       "      <td>1447169969</td>\n",
       "      <td>1447180923</td>\n",
       "      <td>3261020776373483236</td>\n",
       "    </tr>\n",
       "    <tr>\n",
       "      <th>3</th>\n",
       "      <td>1</td>\n",
       "      <td>0</td>\n",
       "      <td>1447139006</td>\n",
       "      <td>1447139006</td>\n",
       "      <td>3300130967635711526</td>\n",
       "    </tr>\n",
       "    <tr>\n",
       "      <th>4</th>\n",
       "      <td>6</td>\n",
       "      <td>175134</td>\n",
       "      <td>1447011016</td>\n",
       "      <td>1447186150</td>\n",
       "      <td>3303148955234989541</td>\n",
       "    </tr>\n",
       "  </tbody>\n",
       "</table>\n",
       "</div>"
      ],
      "text/plain": [
       "   countVisits    diff  firstVisit   lastVisit               userId\n",
       "0            2       0  1447617021  1447617021  2172883450372358834\n",
       "1            4       0  1447578419  1447578419  2214426530139075244\n",
       "2            7   10954  1447169969  1447180923  3261020776373483236\n",
       "3            1       0  1447139006  1447139006  3300130967635711526\n",
       "4            6  175134  1447011016  1447186150  3303148955234989541"
      ]
     },
     "execution_count": 20,
     "metadata": {},
     "output_type": "execute_result"
    }
   ],
   "source": [
    "# create binge dataFrame\n",
    "df3 = pd.DataFrame(binge)\n",
    "# show our first entries\n",
    "df3.head()"
   ]
  },
  {
   "cell_type": "markdown",
   "metadata": {},
   "source": [
    "We are ready to compute summary statistics for the binge dataframe. The crucial variable is represented in the **diff** column, expressed as seconds elapsed between first and last visit for each of the **148375** unique **userIds**."
   ]
  },
  {
   "cell_type": "code",
   "execution_count": 21,
   "metadata": {
    "collapsed": false
   },
   "outputs": [
    {
     "data": {
      "text/plain": [
       "count     148375.000000\n",
       "mean      156526.496438\n",
       "std       352762.753980\n",
       "min            0.000000\n",
       "25%            0.000000\n",
       "50%         6231.000000\n",
       "75%       101382.500000\n",
       "max      2802812.000000\n",
       "Name: diff, dtype: float64"
      ]
     },
     "execution_count": 21,
     "metadata": {},
     "output_type": "execute_result"
    }
   ],
   "source": [
    "df3['diff'].describe()"
   ]
  },
  {
   "cell_type": "code",
   "execution_count": 22,
   "metadata": {
    "collapsed": false
   },
   "outputs": [
    {
     "data": {
      "text/plain": [
       "<matplotlib.axes._subplots.AxesSubplot at 0x7f48c99a8e90>"
      ]
     },
     "execution_count": 22,
     "metadata": {},
     "output_type": "execute_result"
    },
    {
     "data": {
      "image/png": "[encoded data removed]",
      "text/plain": [
       "<matplotlib.figure.Figure at 0x7f48c9a47690>"
      ]
     },
     "metadata": {},
     "output_type": "display_data"
    }
   ],
   "source": [
    "# boxplot difference in seconds\n",
    "df3['diff'].plot(kind='box', vert=False, showmeans=True, meanline=True, title='Difference in seconds between first and last visit')\n"
   ]
  },
  {
   "cell_type": "markdown",
   "metadata": {},
   "source": [
    "We can clearly see that this first trial shows a very sparse population. The mean difference between first and last visit is **156526** seconds (about **43.5** hours), a value that is well beyond the 75% percentile.\n",
    "\n",
    "The boxplot visualization above also shows a strongly left-skewed distribution with a very long right-tail of values over the mean.\n",
    "\n",
    "In order to minimize the noise and sparseness of the data, I will filter the new dataframe to unique **userIds** that have exactly **6** **countVisits** (the maximum expected number of episodes that a well-behaved user should see)."
   ]
  },
  {
   "cell_type": "code",
   "execution_count": 23,
   "metadata": {
    "collapsed": false
   },
   "outputs": [
    {
     "data": {
      "text/plain": [
       "count      50685.000000\n",
       "mean      177729.449285\n",
       "std       322693.281711\n",
       "min            0.000000\n",
       "25%         7720.000000\n",
       "50%        59253.000000\n",
       "75%       174265.000000\n",
       "max      2767148.000000\n",
       "Name: diff, dtype: float64"
      ]
     },
     "execution_count": 23,
     "metadata": {},
     "output_type": "execute_result"
    }
   ],
   "source": [
    "df3[(df3['countVisits']==6)]['diff'].describe()"
   ]
  },
  {
   "cell_type": "markdown",
   "metadata": {},
   "source": [
    " Furthermore, I will filter the data set to a maximum **diff** value of **86400** seconds (**24** hours), a reasonable time for users who compulsively consume TV programs in a short period of time."
   ]
  },
  {
   "cell_type": "code",
   "execution_count": 24,
   "metadata": {
    "collapsed": false
   },
   "outputs": [
    {
     "data": {
      "text/plain": [
       "count    30924.000000\n",
       "mean     23661.315063\n",
       "std      28223.137312\n",
       "min          0.000000\n",
       "25%          0.000000\n",
       "50%      10899.500000\n",
       "75%      41118.750000\n",
       "max      86396.000000\n",
       "Name: diff, dtype: float64"
      ]
     },
     "execution_count": 24,
     "metadata": {},
     "output_type": "execute_result"
    }
   ],
   "source": [
    "df3[(df3['countVisits']==6) & (df3['diff']<86400)]['diff'].describe()"
   ]
  },
  {
   "cell_type": "code",
   "execution_count": 25,
   "metadata": {
    "collapsed": false
   },
   "outputs": [
    {
     "data": {
      "text/plain": [
       "<matplotlib.axes._subplots.AxesSubplot at 0x7f48c4897410>"
      ]
     },
     "execution_count": 25,
     "metadata": {},
     "output_type": "execute_result"
    },
    {
     "data": {
      "image/png": "[encoded data removed]",
      "text/plain": [
       "<matplotlib.figure.Figure at 0x7f48ee9b3850>"
      ]
     },
     "metadata": {},
     "output_type": "display_data"
    }
   ],
   "source": [
    "# boxplot difference in seconds limited to 6 visits/episodes and max 24 hours\n",
    "df3[(df3['countVisits']==6) & (df3['diff']<86400)]['diff'].plot(kind='box', vert=False, showmeans=True, meanline=True, title='Difference in seconds: 6 visits in 24 hours')\n"
   ]
  },
  {
   "cell_type": "markdown",
   "metadata": {},
   "source": [
    "#### Observations\n",
    "\n",
    "Besides the evident noisiness of the data at stake, it is possible to extract very clear indications regarding binge-watching of Unge Lovende.\n",
    "\n",
    "As we pointed out in previous sections, about **1/3** of all unique **userIds** watched **6** episodes of Unge Lovende (**50685** out of **148375**).\n",
    "\n",
    "Of these loyal users, a significant majority, **30924** out of **50685** (**61%**), watched all six episodes within the span of **24** hours.\n",
    "\n",
    "The number of ideal *binge-watchers* as defined in this task, **30924**, represents over **20%** of the total number of unique **userIds** (**148375**) logged in the provided dataset.\n",
    "\n",
    "In my opinion, the message to take home is that making all episodes available online at the same time encourages binge-watching and capitalizes a vast majority of the viewers that will consume all the published videos.\n",
    "\n",
    "While not adressing a number of issues and complications such as the possibility of multiple binges per user, the working hypotheses and tentative definitions proposed in this section proved to be efficient in capturing a general tendency to favor binge-watching in the provided dataset."
   ]
  },
  {
   "cell_type": "code",
   "execution_count": null,
   "metadata": {
    "collapsed": true
   },
   "outputs": [],
   "source": []
  }
 ],
 "metadata": {
  "kernelspec": {
   "display_name": "Python 2",
   "language": "python",
   "name": "python2"
  },
  "language_info": {
   "codemirror_mode": {
    "name": "ipython",
    "version": 2
   },
   "file_extension": ".py",
   "mimetype": "text/x-python",
   "name": "python",
   "nbconvert_exporter": "python",
   "pygments_lexer": "ipython2",
   "version": "2.7.10"
  }
 },
 "nbformat": 4,
 "nbformat_minor": 0
}
